{
 "cells": [
  {
   "cell_type": "code",
   "execution_count": null,
   "id": "fb0af2a2",
   "metadata": {},
   "outputs": [],
   "source": [
    "# !sudo apt install tesseract-ocr\n",
    "!pip install pytesseract"
   ]
  },
  {
   "cell_type": "code",
   "execution_count": 21,
   "id": "9e07fd1a",
   "metadata": {},
   "outputs": [],
   "source": [
    "import numpy as np\n",
    "from skimage.transform import resize\n",
    "from matplotlib.pyplot import imread\n",
    "import cv2\n",
    "import pytesseract\n",
    "import keras\n",
    "try:\n",
    " from PIL import Image\n",
    "except ImportError:\n",
    " import Image"
   ]
  },
  {
   "cell_type": "code",
   "execution_count": 7,
   "id": "d259d5bc",
   "metadata": {},
   "outputs": [],
   "source": [
    "model = keras.models.load_model('my_model.h5')"
   ]
  },
  {
   "cell_type": "code",
   "execution_count": 23,
   "id": "62fe9446",
   "metadata": {},
   "outputs": [],
   "source": [
    "path =  \"3.png\"\n",
    "def aa(path):\n",
    "    img = imread(path)\n",
    "\n",
    "    # convert BGR to RGB\n",
    "    img = cv2.cvtColor(img, cv2.COLOR_BGR2RGB)\n",
    "\n",
    "    # define new shape of image\n",
    "    dimension=(224, 224)\n",
    "\n",
    "    # resize the image\n",
    "    img_resized = resize(img, dimension, anti_aliasing=True, mode='reflect')\n",
    "\n",
    "    img_resized = np.expand_dims(img_resized, axis=0)\n",
    "    classes = model.predict(img_resized)\n",
    "    print(classes[0])\n",
    "    if classes[0]>0.5:\n",
    "        print(path + \" is a Negative\")\n",
    "    else:\n",
    "        print(path + \" is a Charts\")\n",
    "        print(\"============DATA=================\")\n",
    "        extractedInformation = pytesseract.image_to_string(Image.open(path))\n",
    "        print(extractedInformation)\n",
    "#         print(pytesseract.image_to_boxes(Image.open(path)))"
   ]
  },
  {
   "cell_type": "code",
   "execution_count": 24,
   "id": "740a9c7d",
   "metadata": {},
   "outputs": [
    {
     "name": "stdout",
     "output_type": "stream",
     "text": [
      "Enter the image complete path : 4.jpg\n",
      "1/1 [==============================] - 0s 86ms/step\n",
      "[9.057199e-15]\n",
      "4.jpg is a Charts\n",
      "============DATA=================\n",
      "3.100% 4110.0 25800.00\n",
      "107.500 25600.00\n",
      "25400.00\n",
      "25200.00\n",
      "107.000\n",
      "25000.00\n",
      "24800.00\n",
      "\n",
      "106.500 4600.00\n",
      "\n",
      "| 106.283 24400.00\n",
      "\n",
      "106.000 24200.00\n",
      "24000.00\n",
      "23800.00\n",
      "105.500\n",
      "23600.00\n",
      "23400.00\n",
      "\n",
      "105.000  23200.00\n",
      "\n",
      "22800.00\n",
      "104.500\n",
      "\n",
      "22600.00\n",
      "\n",
      "77400.00.\n",
      "7:00 28 07:00 12:00 A B Gc )\n",
      "\n"
     ]
    }
   ],
   "source": [
    "path=input(\"Enter the image complete path : \")\n",
    "aa(path)"
   ]
  }
 ],
 "metadata": {
  "kernelspec": {
   "display_name": "Python 3 (ipykernel)",
   "language": "python",
   "name": "python3"
  },
  "language_info": {
   "codemirror_mode": {
    "name": "ipython",
    "version": 3
   },
   "file_extension": ".py",
   "mimetype": "text/x-python",
   "name": "python",
   "nbconvert_exporter": "python",
   "pygments_lexer": "ipython3",
   "version": "3.9.7"
  }
 },
 "nbformat": 4,
 "nbformat_minor": 5
}
